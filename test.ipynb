{
 "cells": [
  {
   "cell_type": "code",
   "execution_count": 1,
   "id": "9dc37f20-7155-49b8-82be-6accac0b687b",
   "metadata": {},
   "outputs": [
    {
     "data": {
      "text/plain": [
       "5"
      ]
     },
     "execution_count": 1,
     "metadata": {},
     "output_type": "execute_result"
    }
   ],
   "source": [
    "2+3"
   ]
  },
  {
   "cell_type": "code",
   "execution_count": 2,
   "id": "6c635aac-877d-41a2-becf-c5da2b006f8a",
   "metadata": {},
   "outputs": [
    {
     "data": {
      "text/plain": [
       "1.6666666666666667"
      ]
     },
     "execution_count": 2,
     "metadata": {},
     "output_type": "execute_result"
    }
   ],
   "source": [
    "5/3"
   ]
  },
  {
   "cell_type": "code",
   "execution_count": 3,
   "id": "c5888998-f787-409d-b563-2ed524a43888",
   "metadata": {},
   "outputs": [
    {
     "data": {
      "text/plain": [
       "16"
      ]
     },
     "execution_count": 3,
     "metadata": {},
     "output_type": "execute_result"
    }
   ],
   "source": [
    "2**4"
   ]
  },
  {
   "cell_type": "code",
   "execution_count": 1,
   "id": "3c9cda50-d236-4e4f-affe-851d6c52db1d",
   "metadata": {},
   "outputs": [],
   "source": [
    "ID = 1234\n",
    "Name = \"Pedran\""
   ]
  },
  {
   "cell_type": "code",
   "execution_count": 2,
   "id": "a53b7b4d-b6b6-429d-ad91-17cdb93f507b",
   "metadata": {},
   "outputs": [
    {
     "name": "stdout",
     "output_type": "stream",
     "text": [
      "My ID Number is 1234, My name is Pedran\n"
     ]
    }
   ],
   "source": [
    "print('My ID Number is {}, My name is {}'.format(ID, Name))"
   ]
  },
  {
   "cell_type": "code",
   "execution_count": 3,
   "id": "75378259-8fcb-4a9d-a40e-4b5eae3e161c",
   "metadata": {},
   "outputs": [],
   "source": [
    "my_string = 'Hello World i am learning #ML'"
   ]
  },
  {
   "cell_type": "code",
   "execution_count": 4,
   "id": "fbff390a-ed4c-4955-9234-c5adcb9325b2",
   "metadata": {},
   "outputs": [
    {
     "data": {
      "text/plain": [
       "'hello world i am learning #ml'"
      ]
     },
     "execution_count": 4,
     "metadata": {},
     "output_type": "execute_result"
    }
   ],
   "source": [
    "my_string.lower()"
   ]
  },
  {
   "cell_type": "code",
   "execution_count": 5,
   "id": "6ad4ae74-9e4d-4832-8edc-d1a791ee400b",
   "metadata": {},
   "outputs": [
    {
     "data": {
      "text/plain": [
       "'HELLO WORLD I AM LEARNING #ML'"
      ]
     },
     "execution_count": 5,
     "metadata": {},
     "output_type": "execute_result"
    }
   ],
   "source": [
    "my_string.upper()"
   ]
  },
  {
   "cell_type": "code",
   "execution_count": 6,
   "id": "86ae38a5-a88a-48fc-94cf-33147fc8a649",
   "metadata": {},
   "outputs": [
    {
     "data": {
      "text/plain": [
       "['Hello', 'World', 'i', 'am', 'learning', '#ML']"
      ]
     },
     "execution_count": 6,
     "metadata": {},
     "output_type": "execute_result"
    }
   ],
   "source": [
    "my_string.split()"
   ]
  },
  {
   "cell_type": "code",
   "execution_count": 7,
   "id": "ad36e462-1854-46cb-b339-d857588f72b0",
   "metadata": {},
   "outputs": [
    {
     "data": {
      "text/plain": [
       "['Hello World i am learning ', 'ML']"
      ]
     },
     "execution_count": 7,
     "metadata": {},
     "output_type": "execute_result"
    }
   ],
   "source": [
    "my_string.split('#')"
   ]
  },
  {
   "cell_type": "code",
   "execution_count": null,
   "id": "5c501b62-a5f4-4b05-aca1-6968c5206470",
   "metadata": {},
   "outputs": [],
   "source": []
  }
 ],
 "metadata": {
  "kernelspec": {
   "display_name": "Python 3",
   "language": "python",
   "name": "python3"
  },
  "language_info": {
   "codemirror_mode": {
    "name": "ipython",
    "version": 3
   },
   "file_extension": ".py",
   "mimetype": "text/x-python",
   "name": "python",
   "nbconvert_exporter": "python",
   "pygments_lexer": "ipython3",
   "version": "3.8.8"
  }
 },
 "nbformat": 4,
 "nbformat_minor": 5
}
